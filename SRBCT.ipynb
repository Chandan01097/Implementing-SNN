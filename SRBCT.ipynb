{
 "cells": [
  {
   "cell_type": "code",
   "execution_count": 1,
   "id": "60c1cac1",
   "metadata": {},
   "outputs": [
    {
     "name": "stdout",
     "output_type": "stream",
     "text": [
      "Iteration 1, loss = 0.64481370\n",
      "Validation score: 0.800000\n",
      "Iteration 2, loss = 0.01600523\n",
      "Validation score: 0.933333\n",
      "Iteration 3, loss = 0.01365253\n",
      "Validation score: 1.000000\n",
      "Iteration 4, loss = 0.00584499\n",
      "Validation score: 0.933333\n",
      "Iteration 5, loss = 0.00527910\n",
      "Validation score: 0.933333\n",
      "Iteration 6, loss = 0.00517795\n",
      "Validation score: 1.000000\n",
      "Iteration 7, loss = 0.00508438\n",
      "Validation score: 1.000000\n",
      "Iteration 8, loss = 0.00505038\n",
      "Validation score: 1.000000\n",
      "Iteration 9, loss = 0.00502589\n",
      "Validation score: 1.000000\n",
      "Iteration 10, loss = 0.00501015\n",
      "Validation score: 1.000000\n",
      "Iteration 11, loss = 0.00499964\n",
      "Validation score: 1.000000\n",
      "Iteration 12, loss = 0.00499012\n",
      "Validation score: 1.000000\n",
      "Iteration 13, loss = 0.00498173\n",
      "Validation score: 1.000000\n",
      "Iteration 14, loss = 0.00497545\n",
      "Validation score: 1.000000\n",
      "Iteration 15, loss = 0.00496907\n",
      "Validation score: 1.000000\n",
      "Iteration 16, loss = 0.00496367\n",
      "Validation score: 1.000000\n",
      "Iteration 17, loss = 0.00495846\n",
      "Validation score: 1.000000\n",
      "Iteration 18, loss = 0.00495390\n",
      "Validation score: 1.000000\n",
      "Iteration 19, loss = 0.00494936\n",
      "Validation score: 1.000000\n",
      "Iteration 20, loss = 0.00494521\n",
      "Validation score: 1.000000\n",
      "Iteration 21, loss = 0.00494154\n",
      "Validation score: 1.000000\n",
      "Iteration 22, loss = 0.00493804\n",
      "Validation score: 1.000000\n",
      "Iteration 23, loss = 0.00493458\n",
      "Validation score: 1.000000\n",
      "Iteration 24, loss = 0.00493126\n",
      "Validation score: 1.000000\n",
      "Iteration 25, loss = 0.00492819\n",
      "Validation score: 1.000000\n",
      "Iteration 26, loss = 0.00492517\n",
      "Validation score: 1.000000\n",
      "Iteration 27, loss = 0.00492222\n",
      "Validation score: 1.000000\n",
      "Iteration 28, loss = 0.00491926\n",
      "Validation score: 1.000000\n",
      "Iteration 29, loss = 0.00491630\n",
      "Validation score: 1.000000\n",
      "Validation score did not improve more than tol=0.000100 for 25 consecutive epochs. Stopping.\n",
      "Test accuracy: 0.9411764705882353\n",
      "Classification report:\n",
      "               precision    recall  f1-score   support\n",
      "\n",
      "          BL       1.00      1.00      1.00         2\n",
      "         EWS       0.86      1.00      0.92         6\n",
      "          NB       1.00      1.00      1.00         4\n",
      "         RMS       1.00      0.80      0.89         5\n",
      "\n",
      "    accuracy                           0.94        17\n",
      "   macro avg       0.96      0.95      0.95        17\n",
      "weighted avg       0.95      0.94      0.94        17\n",
      "\n",
      "Confusion matrix:\n",
      " [[2 0 0 0]\n",
      " [0 6 0 0]\n",
      " [0 0 4 0]\n",
      " [0 1 0 4]]\n",
      "Macro ROC AUC (OvR): 1.0\n"
     ]
    },
    {
     "data": {
      "image/png": "[encoded data removed]",
      "text/plain": [
       "<Figure size 640x480 with 1 Axes>"
      ]
     },
     "metadata": {},
     "output_type": "display_data"
    }
   ],
   "source": [
    "# train_snn_sklearn.py\n",
    "import pandas as pd\n",
    "import numpy as np\n",
    "from sklearn.model_selection import train_test_split\n",
    "from sklearn.preprocessing import LabelEncoder, StandardScaler, label_binarize\n",
    "from sklearn.metrics import classification_report, confusion_matrix, accuracy_score, roc_auc_score\n",
    "from sklearn.neural_network import MLPClassifier\n",
    "from sklearn.utils.class_weight import compute_class_weight\n",
    "import matplotlib.pyplot as plt\n",
    "import joblib, os\n",
    "\n",
    "file_path = \"SRBCT.tab\"  # put file next to script\n",
    "\n",
    "# 1. Load and clean\n",
    "raw = pd.read_csv(file_path, sep=\"\\t\", header=0, dtype=object)\n",
    "df = raw.drop(index=[0,1]).reset_index(drop=True).copy()\n",
    "feature_cols = [c for c in df.columns if c != 'class']\n",
    "df[feature_cols] = df[feature_cols].apply(pd.to_numeric, errors='coerce')\n",
    "if df[feature_cols].isna().sum().sum() > 0:\n",
    "    df[feature_cols] = df[feature_cols].fillna(df[feature_cols].median())\n",
    "\n",
    "# 2. Labels + encode\n",
    "y_raw = df['class'].astype(str).str.strip()\n",
    "le = LabelEncoder()\n",
    "y = le.fit_transform(y_raw)\n",
    "num_classes = len(le.classes_)\n",
    "X = df[feature_cols].astype(float).values\n",
    "\n",
    "# 3. Scale\n",
    "scaler = StandardScaler()\n",
    "X_scaled = scaler.fit_transform(X)\n",
    "\n",
    "# 4. Split\n",
    "X_train, X_test, y_train, y_test = train_test_split(\n",
    "    X_scaled, y, test_size=0.2, random_state=42, stratify=y\n",
    ")\n",
    "\n",
    "# 5. Compute class weights -> integer multipliers -> oversample\n",
    "class_weights = compute_class_weight(class_weight='balanced', classes=np.unique(y_train), y=y_train)\n",
    "min_w = class_weights.min()\n",
    "multipliers = np.round(class_weights / min_w).astype(int)\n",
    "X_train_aug = []\n",
    "y_train_aug = []\n",
    "for cls in np.unique(y_train):\n",
    "    idx = np.where(y_train == cls)[0]\n",
    "    rep = multipliers[cls]\n",
    "    for _ in range(rep):\n",
    "        X_train_aug.append(X_train[idx])\n",
    "        y_train_aug.append(y_train[idx])\n",
    "X_train_aug = np.vstack(X_train_aug)\n",
    "y_train_aug = np.concatenate(y_train_aug)\n",
    "perm = np.random.RandomState(42).permutation(len(y_train_aug))\n",
    "X_train_aug = X_train_aug[perm]\n",
    "y_train_aug = y_train_aug[perm]\n",
    "\n",
    "# 6. Train MLP\n",
    "mlp = MLPClassifier(hidden_layer_sizes=(256,128,64), activation='relu',\n",
    "                    solver='adam', alpha=1e-4, batch_size=8,\n",
    "                    learning_rate_init=0.001, max_iter=1000,\n",
    "                    early_stopping=True, validation_fraction=0.15,\n",
    "                    n_iter_no_change=25, random_state=42, verbose=True)\n",
    "mlp.fit(X_train_aug, y_train_aug)\n",
    "\n",
    "# 7. Evaluate\n",
    "y_pred = mlp.predict(X_test)\n",
    "y_proba = mlp.predict_proba(X_test)\n",
    "print(\"Test accuracy:\", accuracy_score(y_test, y_pred))\n",
    "print(\"Classification report:\\n\", classification_report(y_test, y_pred, target_names=le.classes_))\n",
    "print(\"Confusion matrix:\\n\", confusion_matrix(y_test, y_pred))\n",
    "try:\n",
    "    y_test_b = label_binarize(y_test, classes=np.arange(num_classes))\n",
    "    print(\"Macro ROC AUC (OvR):\", roc_auc_score(y_test_b, y_proba, average='macro', multi_class='ovr'))\n",
    "except Exception as e:\n",
    "    print(\"Could not compute ROC AUC:\", e)\n",
    "\n",
    "# 8. Plot loss curve\n",
    "plt.figure(); plt.plot(mlp.loss_curve_); plt.title('MLP loss curve'); plt.xlabel('Iterations'); plt.ylabel('Loss'); plt.grid(True); plt.show()\n",
    "\n",
    "# 9. Save artifacts\n",
    "out_dir = \"snn_sr_bct_model_sklearn\"\n",
    "os.makedirs(out_dir, exist_ok=True)\n",
    "joblib.dump(mlp, out_dir + \"/mlp_model.joblib\")\n",
    "joblib.dump(scaler, out_dir + \"/scaler.joblib\")\n",
    "np.save(out_dir + \"/label_classes.npy\", le.classes_, allow_pickle=True)\n"
   ]
  },
  {
   "cell_type": "code",
   "execution_count": 3,
   "id": "c0786c41",
   "metadata": {},
   "outputs": [
    {
     "name": "stdout",
     "output_type": "stream",
     "text": [
      "Loaded model, scaler, and label classes: ['BL' 'EWS' 'NB' 'RMS']\n",
      "\n",
      "📊 Model Evaluation Metrics:\n",
      "Accuracy:              0.9880\n",
      "Balanced Accuracy:     0.9900\n",
      "Precision (weighted):  0.9884\n",
      "Recall (weighted):     0.9880\n",
      "F1-score (weighted):   0.9879\n",
      "Matthews Corrcoef:     0.9835\n",
      "Macro ROC AUC (OvR):   1.0000\n",
      "\n",
      "Detailed classification report:\n",
      "               precision    recall  f1-score    support\n",
      "BL             1.000000  1.000000  1.000000  11.000000\n",
      "EWS            0.966667  1.000000  0.983051  29.000000\n",
      "NB             1.000000  1.000000  1.000000  18.000000\n",
      "RMS            1.000000  0.960000  0.979592  25.000000\n",
      "accuracy       0.987952  0.987952  0.987952   0.987952\n",
      "macro avg      0.991667  0.990000  0.990661  83.000000\n",
      "weighted avg   0.988353  0.987952  0.987931  83.000000\n"
     ]
    },
    {
     "name": "stderr",
     "output_type": "stream",
     "text": [
      "c:\\Users\\saura\\AppData\\Local\\Programs\\Python\\Python311\\Lib\\site-packages\\sklearn\\utils\\validation.py:2742: UserWarning: X has feature names, but StandardScaler was fitted without feature names\n",
      "  warnings.warn(\n"
     ]
    },
    {
     "data": {
      "image/png": "[encoded data removed]",
      "text/plain": [
       "<Figure size 700x500 with 2 Axes>"
      ]
     },
     "metadata": {},
     "output_type": "display_data"
    },
    {
     "name": "stdout",
     "output_type": "stream",
     "text": [
      "\n",
      "✅ Saved detailed report to 'evaluation_metrics_report.csv'\n"
     ]
    }
   ],
   "source": [
    "import pandas as pd\n",
    "import numpy as np\n",
    "import joblib\n",
    "from sklearn.preprocessing import LabelEncoder, StandardScaler, label_binarize\n",
    "from sklearn.metrics import (\n",
    "    accuracy_score,\n",
    "    precision_score,\n",
    "    recall_score,\n",
    "    f1_score,\n",
    "    roc_auc_score,\n",
    "    confusion_matrix,\n",
    "    classification_report,\n",
    "    matthews_corrcoef,\n",
    "    balanced_accuracy_score\n",
    ")\n",
    "import matplotlib.pyplot as plt\n",
    "import seaborn as sns\n",
    "\n",
    "# -----------------------------\n",
    "# 1️⃣ Load trained model + assets\n",
    "# -----------------------------\n",
    "model_path = \"snn_sr_bct_model_sklearn/mlp_model.joblib\"\n",
    "scaler_path = \"snn_sr_bct_model_sklearn/scaler.joblib\"\n",
    "classes_path = \"snn_sr_bct_model_sklearn/label_classes.npy\"\n",
    "\n",
    "mlp = joblib.load(model_path)\n",
    "scaler = joblib.load(scaler_path)\n",
    "label_classes = np.load(classes_path, allow_pickle=True)\n",
    "print(\"Loaded model, scaler, and label classes:\", label_classes)\n",
    "\n",
    "# -----------------------------\n",
    "# 2️⃣ Load and preprocess dataset\n",
    "# -----------------------------\n",
    "data_path = \"SRBCT.tab\"\n",
    "df = pd.read_csv(data_path, sep=\"\\t\", header=0, dtype=object)\n",
    "df = df.drop(index=[0, 1]).reset_index(drop=True)\n",
    "\n",
    "feature_cols = [c for c in df.columns if c != 'class']\n",
    "df[feature_cols] = df[feature_cols].apply(pd.to_numeric, errors='coerce')\n",
    "df[feature_cols] = df[feature_cols].fillna(df[feature_cols].median())\n",
    "\n",
    "# Encode labels\n",
    "y_raw = df['class'].astype(str).str.strip()\n",
    "le = LabelEncoder()\n",
    "le.classes_ = label_classes\n",
    "y_true = le.transform(y_raw)\n",
    "\n",
    "# Scale features\n",
    "X = scaler.transform(df[feature_cols].astype(float))\n",
    "\n",
    "# -----------------------------\n",
    "# 3️⃣ Make predictions\n",
    "# -----------------------------\n",
    "y_pred = mlp.predict(X)\n",
    "y_pred_proba = mlp.predict_proba(X)\n",
    "\n",
    "# -----------------------------\n",
    "# 4️⃣ Evaluation metrics\n",
    "# -----------------------------\n",
    "accuracy = accuracy_score(y_true, y_pred)\n",
    "precision = precision_score(y_true, y_pred, average='weighted')\n",
    "recall = recall_score(y_true, y_pred, average='weighted')\n",
    "f1 = f1_score(y_true, y_pred, average='weighted')\n",
    "balanced_acc = balanced_accuracy_score(y_true, y_pred)\n",
    "mcc = matthews_corrcoef(y_true, y_pred)\n",
    "\n",
    "# ROC AUC (macro)\n",
    "try:\n",
    "    y_true_bin = label_binarize(y_true, classes=np.arange(len(label_classes)))\n",
    "    roc_auc = roc_auc_score(y_true_bin, y_pred_proba, average='macro', multi_class='ovr')\n",
    "except Exception as e:\n",
    "    roc_auc = np.nan\n",
    "    print(\"ROC AUC not computed:\", e)\n",
    "\n",
    "print(\"\\n📊 Model Evaluation Metrics:\")\n",
    "print(f\"Accuracy:              {accuracy:.4f}\")\n",
    "print(f\"Balanced Accuracy:     {balanced_acc:.4f}\")\n",
    "print(f\"Precision (weighted):  {precision:.4f}\")\n",
    "print(f\"Recall (weighted):     {recall:.4f}\")\n",
    "print(f\"F1-score (weighted):   {f1:.4f}\")\n",
    "print(f\"Matthews Corrcoef:     {mcc:.4f}\")\n",
    "print(f\"Macro ROC AUC (OvR):   {roc_auc:.4f}\")\n",
    "\n",
    "# -----------------------------\n",
    "# 5️⃣ Detailed classification report\n",
    "# -----------------------------\n",
    "report = classification_report(y_true, y_pred, target_names=label_classes, output_dict=True)\n",
    "report_df = pd.DataFrame(report).transpose()\n",
    "print(\"\\nDetailed classification report:\\n\", report_df)\n",
    "\n",
    "# -----------------------------\n",
    "# 6️⃣ Confusion matrix visualization\n",
    "# -----------------------------\n",
    "cm = confusion_matrix(y_true, y_pred)\n",
    "plt.figure(figsize=(7, 5))\n",
    "sns.heatmap(cm, annot=True, fmt='d', cmap='Blues',\n",
    "            xticklabels=label_classes, yticklabels=label_classes)\n",
    "plt.xlabel(\"Predicted label\")\n",
    "plt.ylabel(\"True label\")\n",
    "plt.title(\"Confusion Matrix\")\n",
    "plt.tight_layout()\n",
    "plt.show()\n",
    "\n",
    "# -----------------------------\n",
    "# 7️⃣ Save metrics report\n",
    "# -----------------------------\n",
    "report_df.to_csv(\"evaluation_metrics_report.csv\", index=True)\n",
    "print(\"\\n✅ Saved detailed report to 'evaluation_metrics_report.csv'\")\n"
   ]
  },
  {
   "cell_type": "code",
   "execution_count": 14,
   "id": "3e5448ba",
   "metadata": {},
   "outputs": [
    {
     "name": "stdout",
     "output_type": "stream",
     "text": [
      "Loading data: SRBCT.tab\n",
      "Classes: ['BL' 'EWS' 'NB' 'RMS']  -> num_classes: 4\n",
      "Samples: 83 Raw features: 2308\n",
      "PCA applied. n_components = 30. Final input dim: 30\n",
      "Train samples: 66 Test samples: 17\n",
      "SimpleSNN(\n",
      "  (fc1): Linear(in_features=30, out_features=256, bias=True)\n",
      "  (lif1): Leaky()\n",
      "  (fc2): Linear(in_features=256, out_features=128, bias=True)\n",
      "  (lif2): Leaky()\n",
      "  (fc3): Linear(in_features=128, out_features=4, bias=True)\n",
      ")\n"
     ]
    },
    {
     "name": "stderr",
     "output_type": "stream",
     "text": [
      "                                                         \r"
     ]
    },
    {
     "name": "stdout",
     "output_type": "stream",
     "text": [
      "Epoch 001 TrainLoss: 2.8140 ValAcc: 0.3529\n"
     ]
    },
    {
     "name": "stderr",
     "output_type": "stream",
     "text": [
      "                                                         \r"
     ]
    },
    {
     "name": "stdout",
     "output_type": "stream",
     "text": [
      "Epoch 002 TrainLoss: 1.7930 ValAcc: 0.2353\n"
     ]
    },
    {
     "name": "stderr",
     "output_type": "stream",
     "text": [
      "                                                         \r"
     ]
    },
    {
     "name": "stdout",
     "output_type": "stream",
     "text": [
      "Epoch 003 TrainLoss: 1.5902 ValAcc: 0.4118\n"
     ]
    },
    {
     "name": "stderr",
     "output_type": "stream",
     "text": [
      "                                                         \r"
     ]
    },
    {
     "name": "stdout",
     "output_type": "stream",
     "text": [
      "Epoch 004 TrainLoss: 1.4356 ValAcc: 0.4706\n"
     ]
    },
    {
     "name": "stderr",
     "output_type": "stream",
     "text": [
      "                                                         \r"
     ]
    },
    {
     "name": "stdout",
     "output_type": "stream",
     "text": [
      "Epoch 005 TrainLoss: 1.3357 ValAcc: 0.4706\n"
     ]
    },
    {
     "name": "stderr",
     "output_type": "stream",
     "text": [
      "                                                         \r"
     ]
    },
    {
     "name": "stdout",
     "output_type": "stream",
     "text": [
      "Epoch 006 TrainLoss: 1.2629 ValAcc: 0.4706\n"
     ]
    },
    {
     "name": "stderr",
     "output_type": "stream",
     "text": [
      "                                                         \r"
     ]
    },
    {
     "name": "stdout",
     "output_type": "stream",
     "text": [
      "Epoch 007 TrainLoss: 1.1098 ValAcc: 0.5294\n"
     ]
    },
    {
     "name": "stderr",
     "output_type": "stream",
     "text": [
      "                                                         \r"
     ]
    },
    {
     "name": "stdout",
     "output_type": "stream",
     "text": [
      "Epoch 008 TrainLoss: 0.9471 ValAcc: 0.7059\n"
     ]
    },
    {
     "name": "stderr",
     "output_type": "stream",
     "text": [
      "                                                         \r"
     ]
    },
    {
     "name": "stdout",
     "output_type": "stream",
     "text": [
      "Epoch 009 TrainLoss: 0.9153 ValAcc: 0.4706\n"
     ]
    },
    {
     "name": "stderr",
     "output_type": "stream",
     "text": [
      "                                                         \r"
     ]
    },
    {
     "name": "stdout",
     "output_type": "stream",
     "text": [
      "Epoch 010 TrainLoss: 0.6834 ValAcc: 0.5294\n"
     ]
    },
    {
     "name": "stderr",
     "output_type": "stream",
     "text": [
      "                                                         \r"
     ]
    },
    {
     "name": "stdout",
     "output_type": "stream",
     "text": [
      "Epoch 011 TrainLoss: 0.8126 ValAcc: 0.7059\n"
     ]
    },
    {
     "name": "stderr",
     "output_type": "stream",
     "text": [
      "                                                         \r"
     ]
    },
    {
     "name": "stdout",
     "output_type": "stream",
     "text": [
      "Epoch 012 TrainLoss: 0.7255 ValAcc: 0.5294\n"
     ]
    },
    {
     "name": "stderr",
     "output_type": "stream",
     "text": [
      "                                                         \r"
     ]
    },
    {
     "name": "stdout",
     "output_type": "stream",
     "text": [
      "Epoch 013 TrainLoss: 0.7983 ValAcc: 0.8824\n"
     ]
    },
    {
     "name": "stderr",
     "output_type": "stream",
     "text": [
      "                                                         \r"
     ]
    },
    {
     "name": "stdout",
     "output_type": "stream",
     "text": [
      "Epoch 014 TrainLoss: 0.5172 ValAcc: 0.7647\n"
     ]
    },
    {
     "name": "stderr",
     "output_type": "stream",
     "text": [
      "                                                         \r"
     ]
    },
    {
     "name": "stdout",
     "output_type": "stream",
     "text": [
      "Epoch 015 TrainLoss: 0.4566 ValAcc: 0.7647\n"
     ]
    },
    {
     "name": "stderr",
     "output_type": "stream",
     "text": [
      "                                                         \r"
     ]
    },
    {
     "name": "stdout",
     "output_type": "stream",
     "text": [
      "Epoch 016 TrainLoss: 0.3947 ValAcc: 0.8235\n"
     ]
    },
    {
     "name": "stderr",
     "output_type": "stream",
     "text": [
      "                                                         \r"
     ]
    },
    {
     "name": "stdout",
     "output_type": "stream",
     "text": [
      "Epoch 017 TrainLoss: 0.5589 ValAcc: 0.6471\n"
     ]
    },
    {
     "name": "stderr",
     "output_type": "stream",
     "text": [
      "                                                         \r"
     ]
    },
    {
     "name": "stdout",
     "output_type": "stream",
     "text": [
      "Epoch 018 TrainLoss: 0.4790 ValAcc: 0.9412\n"
     ]
    },
    {
     "name": "stderr",
     "output_type": "stream",
     "text": [
      "                                                         \r"
     ]
    },
    {
     "name": "stdout",
     "output_type": "stream",
     "text": [
      "Epoch 019 TrainLoss: 0.4208 ValAcc: 0.7647\n"
     ]
    },
    {
     "name": "stderr",
     "output_type": "stream",
     "text": [
      "                                                         \r"
     ]
    },
    {
     "name": "stdout",
     "output_type": "stream",
     "text": [
      "Epoch 020 TrainLoss: 0.4136 ValAcc: 0.8235\n"
     ]
    },
    {
     "name": "stderr",
     "output_type": "stream",
     "text": [
      "                                                         \r"
     ]
    },
    {
     "name": "stdout",
     "output_type": "stream",
     "text": [
      "Epoch 021 TrainLoss: 0.6762 ValAcc: 0.8824\n"
     ]
    },
    {
     "name": "stderr",
     "output_type": "stream",
     "text": [
      "                                                         \r"
     ]
    },
    {
     "name": "stdout",
     "output_type": "stream",
     "text": [
      "Epoch 022 TrainLoss: 0.4219 ValAcc: 0.8235\n"
     ]
    },
    {
     "name": "stderr",
     "output_type": "stream",
     "text": [
      "                                                         \r"
     ]
    },
    {
     "name": "stdout",
     "output_type": "stream",
     "text": [
      "Epoch 023 TrainLoss: 0.4534 ValAcc: 0.7059\n"
     ]
    },
    {
     "name": "stderr",
     "output_type": "stream",
     "text": [
      "                                                         \r"
     ]
    },
    {
     "name": "stdout",
     "output_type": "stream",
     "text": [
      "Epoch 024 TrainLoss: 0.3135 ValAcc: 0.8824\n"
     ]
    },
    {
     "name": "stderr",
     "output_type": "stream",
     "text": [
      "                                                         \r"
     ]
    },
    {
     "name": "stdout",
     "output_type": "stream",
     "text": [
      "Epoch 025 TrainLoss: 0.4243 ValAcc: 0.7647\n"
     ]
    },
    {
     "name": "stderr",
     "output_type": "stream",
     "text": [
      "                                                         \r"
     ]
    },
    {
     "name": "stdout",
     "output_type": "stream",
     "text": [
      "Epoch 026 TrainLoss: 0.2730 ValAcc: 0.7647\n"
     ]
    },
    {
     "name": "stderr",
     "output_type": "stream",
     "text": [
      "                                                         \r"
     ]
    },
    {
     "name": "stdout",
     "output_type": "stream",
     "text": [
      "Epoch 027 TrainLoss: 0.4045 ValAcc: 0.9412\n"
     ]
    },
    {
     "name": "stderr",
     "output_type": "stream",
     "text": [
      "                                                         \r"
     ]
    },
    {
     "name": "stdout",
     "output_type": "stream",
     "text": [
      "Epoch 028 TrainLoss: 0.4087 ValAcc: 0.6471\n"
     ]
    },
    {
     "name": "stderr",
     "output_type": "stream",
     "text": [
      "                                                         \r"
     ]
    },
    {
     "name": "stdout",
     "output_type": "stream",
     "text": [
      "Epoch 029 TrainLoss: 0.1867 ValAcc: 0.8235\n"
     ]
    },
    {
     "name": "stderr",
     "output_type": "stream",
     "text": [
      "                                                         \r"
     ]
    },
    {
     "name": "stdout",
     "output_type": "stream",
     "text": [
      "Epoch 030 TrainLoss: 0.1792 ValAcc: 0.8824\n"
     ]
    },
    {
     "name": "stderr",
     "output_type": "stream",
     "text": [
      "                                                         \r"
     ]
    },
    {
     "name": "stdout",
     "output_type": "stream",
     "text": [
      "Epoch 031 TrainLoss: 0.2477 ValAcc: 0.8824\n"
     ]
    },
    {
     "name": "stderr",
     "output_type": "stream",
     "text": [
      "                                                         \r"
     ]
    },
    {
     "name": "stdout",
     "output_type": "stream",
     "text": [
      "Epoch 032 TrainLoss: 0.1603 ValAcc: 0.8824\n"
     ]
    },
    {
     "name": "stderr",
     "output_type": "stream",
     "text": [
      "                                                         \r"
     ]
    },
    {
     "name": "stdout",
     "output_type": "stream",
     "text": [
      "Epoch 033 TrainLoss: 0.3208 ValAcc: 0.7647\n"
     ]
    },
    {
     "name": "stderr",
     "output_type": "stream",
     "text": [
      "                                                         \r"
     ]
    },
    {
     "name": "stdout",
     "output_type": "stream",
     "text": [
      "Epoch 034 TrainLoss: 0.1267 ValAcc: 0.9412\n"
     ]
    },
    {
     "name": "stderr",
     "output_type": "stream",
     "text": [
      "                                                         \r"
     ]
    },
    {
     "name": "stdout",
     "output_type": "stream",
     "text": [
      "Epoch 035 TrainLoss: 0.1646 ValAcc: 0.8235\n"
     ]
    },
    {
     "name": "stderr",
     "output_type": "stream",
     "text": [
      "                                                         \r"
     ]
    },
    {
     "name": "stdout",
     "output_type": "stream",
     "text": [
      "Epoch 036 TrainLoss: 0.2360 ValAcc: 0.9412\n"
     ]
    },
    {
     "name": "stderr",
     "output_type": "stream",
     "text": [
      "                                                         \r"
     ]
    },
    {
     "name": "stdout",
     "output_type": "stream",
     "text": [
      "Epoch 037 TrainLoss: 0.3582 ValAcc: 0.8235\n"
     ]
    },
    {
     "name": "stderr",
     "output_type": "stream",
     "text": [
      "                                                         \r"
     ]
    },
    {
     "name": "stdout",
     "output_type": "stream",
     "text": [
      "Epoch 038 TrainLoss: 0.3090 ValAcc: 0.6471\n",
      "Early stopping triggered.\n"
     ]
    },
    {
     "name": "stderr",
     "output_type": "stream",
     "text": [
      "                                                         \r"
     ]
    },
    {
     "name": "stdout",
     "output_type": "stream",
     "text": [
      "Final Test Accuracy: 0.9411764705882353\n",
      "Classification report:\n",
      "              precision    recall  f1-score   support\n",
      "\n",
      "          BL       0.67      1.00      0.80         2\n",
      "         EWS       1.00      1.00      1.00         6\n",
      "          NB       1.00      1.00      1.00         4\n",
      "         RMS       1.00      0.80      0.89         5\n",
      "\n",
      "    accuracy                           0.94        17\n",
      "   macro avg       0.92      0.95      0.92        17\n",
      "weighted avg       0.96      0.94      0.94        17\n",
      "\n",
      "Confusion matrix:\n",
      " [[2 0 0 0]\n",
      " [0 6 0 0]\n",
      " [0 0 4 0]\n",
      " [1 0 0 4]]\n"
     ]
    },
    {
     "name": "stderr",
     "output_type": "stream",
     "text": [
      "                                                            \r"
     ]
    },
    {
     "name": "stdout",
     "output_type": "stream",
     "text": [
      "Macro ROC AUC (OvR): 1.0\n",
      "Saved model + preprocessing artifacts and plots to snn_outputs/\n"
     ]
    },
    {
     "data": {
      "image/png": "[encoded data removed]",
      "text/plain": [
       "<Figure size 640x480 with 1 Axes>"
      ]
     },
     "metadata": {},
     "output_type": "display_data"
    },
    {
     "data": {
      "image/png": "[encoded data removed]",
      "text/plain": [
       "<Figure size 600x500 with 2 Axes>"
      ]
     },
     "metadata": {},
     "output_type": "display_data"
    }
   ],
   "source": [
    "\"\"\"\n",
    "train_snn_srct_safe_pca.py\n",
    "\n",
    "Train an SNN (with snnTorch) on the SRBCT .tab dataset using Poisson rate encoding.\n",
    "Includes a safe PCA implementation (auto-limits components to dataset size), training loop, and evaluation metrics.\n",
    "\n",
    "Run:\n",
    "    python train_snn_srct_safe_pca.py\n",
    "\"\"\"\n",
    "\n",
    "import os\n",
    "import numpy as np\n",
    "import pandas as pd\n",
    "from sklearn.preprocessing import StandardScaler, LabelEncoder\n",
    "from sklearn.decomposition import PCA\n",
    "from sklearn.model_selection import train_test_split\n",
    "from sklearn.metrics import accuracy_score, classification_report, confusion_matrix, roc_auc_score\n",
    "from torch.utils.data import Dataset, DataLoader\n",
    "import torch\n",
    "import torch.nn as nn\n",
    "import torch.optim as optim\n",
    "import snntorch as snn\n",
    "from snntorch import surrogate\n",
    "import matplotlib.pyplot as plt\n",
    "import seaborn as sns\n",
    "import joblib\n",
    "import argparse\n",
    "from tqdm import tqdm\n",
    "\n",
    "# ---------------------------\n",
    "# Arguments / Hyperparameters\n",
    "# ---------------------------\n",
    "parser = argparse.ArgumentParser()\n",
    "parser.add_argument(\"--data_path\", type=str, default=\"SRBCT.tab\")\n",
    "parser.add_argument(\"--pca_components\", type=int, default=30,\n",
    "                    help=\"Number of PCA components. Use None to disable PCA. \"\n",
    "                         \"If greater than allowed by data, it will be reduced automatically.\")\n",
    "parser.add_argument(\"--T\", type=int, default=100, help=\"Number of timesteps for SNN (temporal dimension)\")\n",
    "parser.add_argument(\"--batch_size\", type=int, default=8)\n",
    "parser.add_argument(\"--epochs\", type=int, default=120)\n",
    "parser.add_argument(\"--lr\", type=float, default=1e-3)\n",
    "parser.add_argument(\"--device\", type=str, default=\"cuda\" if torch.cuda.is_available() else \"cpu\")\n",
    "parser.add_argument(\"--seed\", type=int, default=42)\n",
    "parser.add_argument(\"--max_rate\", type=float, default=0.2, help=\"Max firing probability per timestep for Poisson rate code\")\n",
    "parser.add_argument(\"--pca_variance_ratio\", type=float, default=None,\n",
    "                    help=\"If set (e.g. 0.95) use PCA to retain that fraction of variance. Overrides pca_components.\")\n",
    "args = parser.parse_args(args=[])\n",
    "\n",
    "# reproducibility\n",
    "torch.manual_seed(args.seed)\n",
    "np.random.seed(args.seed)\n",
    "\n",
    "# ---------------------------\n",
    "# 1) Load and preprocess data\n",
    "# ---------------------------\n",
    "print(\"Loading data:\", args.data_path)\n",
    "raw = pd.read_csv(args.data_path, sep=\"\\t\", header=0, dtype=object)\n",
    "\n",
    "# drop metadata rows (observed in this dataset)\n",
    "if raw.shape[0] >= 2:\n",
    "    df = raw.drop(index=[0, 1]).reset_index(drop=True).copy()\n",
    "else:\n",
    "    df = raw.copy()\n",
    "\n",
    "if 'class' not in df.columns:\n",
    "    raise RuntimeError(\"Expected column named 'class' in dataset.\")\n",
    "\n",
    "feature_cols = [c for c in df.columns if c != 'class']\n",
    "df[feature_cols] = df[feature_cols].apply(pd.to_numeric, errors='coerce')\n",
    "\n",
    "# impute missing with median\n",
    "if df[feature_cols].isna().sum().sum() > 0:\n",
    "    print(\"Imputing missing feature values with column median.\")\n",
    "    df[feature_cols] = df[feature_cols].fillna(df[feature_cols].median())\n",
    "\n",
    "# labels\n",
    "y_raw = df['class'].astype(str).str.strip()\n",
    "le = LabelEncoder()\n",
    "y = le.fit_transform(y_raw)\n",
    "num_classes = len(le.classes_)\n",
    "print(\"Classes:\", le.classes_, \" -> num_classes:\", num_classes)\n",
    "\n",
    "# features\n",
    "X = df[feature_cols].astype(float).values\n",
    "n_samples, n_features = X.shape\n",
    "print(\"Samples:\", n_samples, \"Raw features:\", n_features)\n",
    "\n",
    "# scale features\n",
    "scaler = StandardScaler()\n",
    "X_scaled = scaler.fit_transform(X)\n",
    "\n",
    "# ---------------------------\n",
    "# 2) Safe PCA logic\n",
    "# ---------------------------\n",
    "if args.pca_variance_ratio is not None:\n",
    "    # Use variance ratio mode (e.g., 0.95) but still constrained by n_samples - 1\n",
    "    max_components = min(n_samples - 1, n_features)\n",
    "    print(f\"PCA variance ratio mode: target {args.pca_variance_ratio}. Max allowed components = {max_components}\")\n",
    "    pca_temp = PCA(n_components=min(max_components, n_features))\n",
    "    pca_temp.fit(X_scaled)\n",
    "    # compute cumulative explained variance and pick required components\n",
    "    cumvar = np.cumsum(pca_temp.explained_variance_ratio_)\n",
    "    n_comp = int(np.searchsorted(cumvar, args.pca_variance_ratio) + 1)\n",
    "    n_comp = max(1, min(n_comp, max_components))\n",
    "    print(f\"Selected n_components by variance ratio: {n_comp}\")\n",
    "    pca = PCA(n_components=n_comp, random_state=args.seed)\n",
    "    X_reduced = pca.fit_transform(X_scaled)\n",
    "    input_dim = X_reduced.shape[1]\n",
    "    print(f\"PCA applied. n_components = {n_comp}. Final input dim: {input_dim}\")\n",
    "else:\n",
    "    # User-provided integer or None\n",
    "    requested_pc = args.pca_components\n",
    "    if requested_pc is None:\n",
    "        pca = None\n",
    "        X_reduced = X_scaled\n",
    "        input_dim = X_reduced.shape[1]\n",
    "        print(\"PCA disabled. Input dim:\", input_dim)\n",
    "    else:\n",
    "        # safe maximum components\n",
    "        max_components = min(n_samples - 1, n_features)\n",
    "        if requested_pc > max_components:\n",
    "            print(f\"Warning: requested PCA components ({requested_pc}) > max allowed ({max_components}).\")\n",
    "            n_comp = max_components\n",
    "            print(f\"Using n_components = {n_comp}\")\n",
    "        else:\n",
    "            n_comp = requested_pc\n",
    "        if n_comp <= 0:\n",
    "            raise ValueError(\"Computed PCA components <= 0. Check dataset size.\")\n",
    "        pca = PCA(n_components=n_comp, random_state=args.seed)\n",
    "        X_reduced = pca.fit_transform(X_scaled)\n",
    "        input_dim = X_reduced.shape[1]\n",
    "        print(f\"PCA applied. n_components = {n_comp}. Final input dim: {input_dim}\")\n",
    "\n",
    "# train/test split\n",
    "X_train, X_test, y_train, y_test = train_test_split(X_reduced, y, test_size=0.2,\n",
    "                                                    random_state=args.seed, stratify=y)\n",
    "print(\"Train samples:\", X_train.shape[0], \"Test samples:\", X_test.shape[0])\n",
    "\n",
    "# ---------------------------\n",
    "# 3) Dataset & Collate (Poisson rate encoding)\n",
    "# ---------------------------\n",
    "class SRBCTDataset(Dataset):\n",
    "    def __init__(self, X, y, T=100, max_rate=0.2):\n",
    "        self.X = X.astype(np.float32)\n",
    "        self.min = X.min(axis=0)\n",
    "        self.max = X.max(axis=0)\n",
    "        self.range = self.max - self.min\n",
    "        self.range[self.range == 0] = 1.0\n",
    "        self.y = y\n",
    "        self.T = T\n",
    "        self.max_rate = max_rate\n",
    "\n",
    "    def __len__(self):\n",
    "        return len(self.y)\n",
    "\n",
    "    def normalize_to_01(self, x):\n",
    "        return (x - self.min) / self.range\n",
    "\n",
    "    def __getitem__(self, idx):\n",
    "        base = self.X[idx]\n",
    "        norm = self.normalize_to_01(base)\n",
    "        label = int(self.y[idx])\n",
    "        return norm.astype(np.float32), label\n",
    "\n",
    "def collate_fn_rate(batch):\n",
    "    norms = np.stack([b[0] for b in batch], axis=0)  # (B, D)\n",
    "    labels = torch.tensor([b[1] for b in batch], dtype=torch.long)\n",
    "    B, D = norms.shape\n",
    "    probs = np.clip(norms * args.max_rate, 0.0, 1.0)  # (B, D)\n",
    "    rand = np.random.rand(args.T, B, D)\n",
    "    spikes = (rand < probs[np.newaxis, :, :]).astype(np.float32)  # (T, B, D)\n",
    "    spikes_tensor = torch.from_numpy(spikes)\n",
    "    return spikes_tensor.to(args.device), labels.to(args.device)\n",
    "\n",
    "train_ds = SRBCTDataset(X_train, y_train, T=args.T, max_rate=args.max_rate)\n",
    "test_ds = SRBCTDataset(X_test, y_test, T=args.T, max_rate=args.max_rate)\n",
    "train_loader = DataLoader(train_ds, batch_size=args.batch_size, shuffle=True, collate_fn=collate_fn_rate)\n",
    "test_loader = DataLoader(test_ds, batch_size=args.batch_size, shuffle=False, collate_fn=collate_fn_rate)\n",
    "\n",
    "# ---------------------------\n",
    "# 4) SNN Model (Leaky LIF neurons)\n",
    "# ---------------------------\n",
    "class SimpleSNN(nn.Module):\n",
    "    def __init__(self, input_dim, n_hidden1=256, n_hidden2=128, n_out=4, spike_grad=None, beta=0.95):\n",
    "        super().__init__()\n",
    "        self.fc1 = nn.Linear(input_dim, n_hidden1)\n",
    "        self.lif1 = snn.Leaky(beta=beta, spike_grad=spike_grad)\n",
    "        self.fc2 = nn.Linear(n_hidden1, n_hidden2)\n",
    "        self.lif2 = snn.Leaky(beta=beta, spike_grad=spike_grad)\n",
    "        self.fc3 = nn.Linear(n_hidden2, n_out)\n",
    "\n",
    "    def _move_state_to_device(self, state, device):\n",
    "        \"\"\"Move state (Tensor, tuple/list of Tensors, or nested) to device safely.\"\"\"\n",
    "        if isinstance(state, torch.Tensor):\n",
    "            return state.to(device)\n",
    "        elif isinstance(state, (tuple, list)):\n",
    "            # recursively move tensors inside tuple/list\n",
    "            moved = []\n",
    "            for s in state:\n",
    "                if isinstance(s, torch.Tensor):\n",
    "                    moved.append(s.to(device))\n",
    "                elif isinstance(s, (tuple, list)):\n",
    "                    # nested structure\n",
    "                    moved.append(self._move_state_to_device(s, device))\n",
    "                else:\n",
    "                    moved.append(s)\n",
    "            return type(state)(moved)\n",
    "        else:\n",
    "            # fallback: try .to()\n",
    "            try:\n",
    "                return state.to(device)\n",
    "            except Exception:\n",
    "                return state\n",
    "\n",
    "    def _init_state_flexible(self, lif_module, B, out_features, device):\n",
    "        \"\"\"\n",
    "        Try several common init_leaky call signatures and return a device-moved state.\n",
    "        Patterns attempted (in order):\n",
    "          1) lif.init_leaky(B, out_features, device=device)\n",
    "          2) lif.init_leaky(B, out_features)\n",
    "          3) lif.init_leaky(B, device=device)\n",
    "          4) lif.init_leaky(B)\n",
    "          5) lif.init_leaky()  # last resort\n",
    "        \"\"\"\n",
    "        init_fn = lif_module.init_leaky\n",
    "        tried = []\n",
    "        # candidate call variants\n",
    "        candidates = [\n",
    "            (B, out_features, {\"device\": device}),\n",
    "            (B, out_features, {}),\n",
    "            (B, {\"device\": device}),\n",
    "            (B, {},),\n",
    "            ((), {})  # call with no positional args\n",
    "        ]\n",
    "\n",
    "        for cand in candidates:\n",
    "            pos_args = cand[0] if isinstance(cand[0], tuple) else (cand[0],) if cand[0] != () else tuple()\n",
    "            kw = cand[1] if len(cand) > 1 else {}\n",
    "            try:\n",
    "                state = init_fn(*pos_args, **kw)\n",
    "                # if we got here, call succeeded\n",
    "                return self._move_state_to_device(state, device)\n",
    "            except TypeError as te:\n",
    "                tried.append((pos_args, kw, str(te)))\n",
    "                continue\n",
    "            except Exception as e:\n",
    "                # some snntorch versions may raise other errors — still try next\n",
    "                tried.append((pos_args, kw, str(e)))\n",
    "                continue\n",
    "\n",
    "        # If we reach here, no candidate worked — raise informative error\n",
    "        raise RuntimeError(\n",
    "            \"Could not call init_leaky with known signatures. Tried variants:\\n\"\n",
    "            + \"\\n\".join([f\"pos={p} kw={k} err={err}\" for p, k, err in tried])\n",
    "        )\n",
    "\n",
    "    def forward(self, x_seq):\n",
    "        \"\"\"\n",
    "        x_seq: (T, B, D) spike tensor, already on device\n",
    "        returns: summed logits across time (B, n_out)\n",
    "        \"\"\"\n",
    "        device = x_seq.device\n",
    "        T, B, D = x_seq.shape\n",
    "\n",
    "        # Initialize membrane states for both layers in a flexible, version-safe way\n",
    "        mem1 = self._init_state_flexible(self.lif1, B, self.fc1.out_features, device)\n",
    "        mem2 = self._init_state_flexible(self.lif2, B, self.fc2.out_features, device)\n",
    "\n",
    "        # Accumulate logits across timesteps\n",
    "        out_accum = torch.zeros(B, self.fc3.out_features, device=device)\n",
    "\n",
    "        for t in range(T):\n",
    "            inp_t = x_seq[t]  # shape (B, D)\n",
    "            cur1 = self.fc1(inp_t)\n",
    "            spk1, mem1 = self.lif1(cur1, mem1)\n",
    "            cur2 = self.fc2(spk1)\n",
    "            spk2, mem2 = self.lif2(cur2, mem2)\n",
    "            out_t = self.fc3(spk2)\n",
    "            out_accum += out_t\n",
    "\n",
    "        return out_accum\n",
    "\n",
    "\n",
    "spike_grad = surrogate.fast_sigmoid(slope=25)\n",
    "model = SimpleSNN(input_dim=input_dim, n_hidden1=256, n_hidden2=128, n_out=num_classes,\n",
    "                  spike_grad=spike_grad, beta=0.95).to(args.device)\n",
    "print(model)\n",
    "\n",
    "# ---------------------------\n",
    "# 5) Training setup\n",
    "# ---------------------------\n",
    "optimizer = optim.Adam(model.parameters(), lr=args.lr)\n",
    "criterion = nn.CrossEntropyLoss()\n",
    "# Backward-compatible ReduceLROnPlateau setup\n",
    "try:\n",
    "    scheduler = optim.lr_scheduler.ReduceLROnPlateau(optimizer, factor=0.5, patience=8, verbose=True)\n",
    "except TypeError:\n",
    "    # Older PyTorch versions do not support 'verbose'\n",
    "    scheduler = optim.lr_scheduler.ReduceLROnPlateau(optimizer, factor=0.5, patience=8)\n",
    "\n",
    "\n",
    "# ---------------------------\n",
    "# 6) Training & evaluation helpers\n",
    "# ---------------------------\n",
    "def train_epoch(model, loader, optimizer, criterion):\n",
    "    model.train()\n",
    "    running_loss = 0.0\n",
    "    for spikes, labels in tqdm(loader, desc=\"Training\", leave=False):\n",
    "        optimizer.zero_grad()\n",
    "        outputs = model(spikes)\n",
    "        loss = criterion(outputs, labels)\n",
    "        loss.backward()\n",
    "        optimizer.step()\n",
    "        running_loss += loss.item() * labels.size(0)\n",
    "    return running_loss / len(loader.dataset)\n",
    "\n",
    "def eval_model(model, loader):\n",
    "    model.eval()\n",
    "    all_preds = []\n",
    "    all_labels = []\n",
    "    with torch.no_grad():\n",
    "        for spikes, labels in tqdm(loader, desc=\"Evaluating\", leave=False):\n",
    "            outputs = model(spikes)\n",
    "            preds = outputs.argmax(dim=1).cpu().numpy()\n",
    "            all_preds.append(preds)\n",
    "            all_labels.append(labels.cpu().numpy())\n",
    "    y_pred = np.concatenate(all_preds)\n",
    "    y_true = np.concatenate(all_labels)\n",
    "    return y_true, y_pred\n",
    "\n",
    "best_val_acc = 0.0\n",
    "patience = 20\n",
    "no_improve = 0\n",
    "history = {\"train_loss\": [], \"val_acc\": []}\n",
    "os.makedirs(\"snn_outputs\", exist_ok=True)\n",
    "\n",
    "for epoch in range(1, args.epochs + 1):\n",
    "    train_loss = train_epoch(model, train_loader, optimizer, criterion)\n",
    "    y_val_true, y_val_pred = eval_model(model, test_loader)\n",
    "    val_acc = accuracy_score(y_val_true, y_val_pred)\n",
    "    scheduler.step(1.0 - val_acc)\n",
    "    history[\"train_loss\"].append(train_loss)\n",
    "    history[\"val_acc\"].append(val_acc)\n",
    "    print(f\"Epoch {epoch:03d} TrainLoss: {train_loss:.4f} ValAcc: {val_acc:.4f}\")\n",
    "    if val_acc > best_val_acc + 1e-6:\n",
    "        best_val_acc = val_acc\n",
    "        no_improve = 0\n",
    "        torch.save(model.state_dict(), \"snn_outputs/best_snn.pth\")\n",
    "    else:\n",
    "        no_improve += 1\n",
    "    if no_improve >= patience:\n",
    "        print(\"Early stopping triggered.\")\n",
    "        break\n",
    "\n",
    "# ---------------------------\n",
    "# 7) Final evaluation & metrics\n",
    "# ---------------------------\n",
    "model.load_state_dict(torch.load(\"snn_outputs/best_snn.pth\", map_location=args.device))\n",
    "y_test_true, y_test_pred = eval_model(model, test_loader)\n",
    "acc = accuracy_score(y_test_true, y_test_pred)\n",
    "print(\"Final Test Accuracy:\", acc)\n",
    "print(\"Classification report:\")\n",
    "print(classification_report(y_test_true, y_test_pred, target_names=le.classes_))\n",
    "cm = confusion_matrix(y_test_true, y_test_pred)\n",
    "print(\"Confusion matrix:\\n\", cm)\n",
    "\n",
    "# Attempt ROC AUC\n",
    "try:\n",
    "    model.eval()\n",
    "    proba_list = []\n",
    "    with torch.no_grad():\n",
    "        for spikes, labels in tqdm(test_loader, desc=\"Getting probs\", leave=False):\n",
    "            logits = model(spikes)\n",
    "            probs = torch.softmax(logits, dim=1).cpu().numpy()\n",
    "            proba_list.append(probs)\n",
    "    proba_all = np.vstack(proba_list)\n",
    "    y_test_bin = np.eye(num_classes)[y_test_true]\n",
    "    roc_auc = roc_auc_score(y_test_bin, proba_all, average=\"macro\", multi_class=\"ovr\")\n",
    "    print(\"Macro ROC AUC (OvR):\", roc_auc)\n",
    "except Exception as e:\n",
    "    print(\"Could not compute ROC AUC:\", e)\n",
    "\n",
    "# ---------------------------\n",
    "# 8) Save artifacts and plots\n",
    "# ---------------------------\n",
    "joblib.dump(scaler, \"snn_outputs/scaler.joblib\")\n",
    "if pca is not None:\n",
    "    joblib.dump(pca, \"snn_outputs/pca.joblib\")\n",
    "joblib.dump(le.classes_, \"snn_outputs/label_classes.npy\")\n",
    "plt.figure(); plt.plot(history[\"train_loss\"]); plt.title(\"Train loss\"); plt.xlabel(\"Epoch\"); plt.ylabel(\"Loss\"); plt.grid(True); plt.savefig(\"snn_outputs/train_loss.png\")\n",
    "plt.figure(figsize=(6,5)); sns.heatmap(cm, annot=True, fmt=\"d\", xticklabels=le.classes_, yticklabels=le.classes_, cmap=\"Blues\"); plt.title(\"Confusion Matrix\"); plt.xlabel(\"Predicted\"); plt.ylabel(\"True\"); plt.tight_layout(); plt.savefig(\"snn_outputs/confusion_matrix.png\")\n",
    "print(\"Saved model + preprocessing artifacts and plots to snn_outputs/\")\n"
   ]
  },
  {
   "cell_type": "code",
   "execution_count": null,
   "id": "5891dcf6",
   "metadata": {},
   "outputs": [],
   "source": []
  }
 ],
 "metadata": {
  "kernelspec": {
   "display_name": "Python 3",
   "language": "python",
   "name": "python3"
  },
  "language_info": {
   "codemirror_mode": {
    "name": "ipython",
    "version": 3
   },
   "file_extension": ".py",
   "mimetype": "text/x-python",
   "name": "python",
   "nbconvert_exporter": "python",
   "pygments_lexer": "ipython3",
   "version": "3.11.9"
  }
 },
 "nbformat": 4,
 "nbformat_minor": 5
}
